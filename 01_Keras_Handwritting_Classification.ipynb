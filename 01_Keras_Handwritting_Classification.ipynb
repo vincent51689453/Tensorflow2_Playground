{
  "nbformat": 4,
  "nbformat_minor": 0,
  "metadata": {
    "colab": {
      "name": "01-Keras-Handwritting-.ipynb",
      "provenance": [],
      "collapsed_sections": [],
      "authorship_tag": "ABX9TyP/JkcP4Ip8YQUql1xjGFPp",
      "include_colab_link": true
    },
    "kernelspec": {
      "name": "python3",
      "display_name": "Python 3"
    },
    "accelerator": "GPU"
  },
  "cells": [
    {
      "cell_type": "markdown",
      "metadata": {
        "id": "view-in-github",
        "colab_type": "text"
      },
      "source": [
        "<a href=\"https://colab.research.google.com/github/vincent51689453/Tensorflow2_Playground/blob/master/01_Keras_Handwritting_Classification.ipynb\" target=\"_parent\"><img src=\"https://colab.research.google.com/assets/colab-badge.svg\" alt=\"Open In Colab\"/></a>"
      ]
    },
    {
      "cell_type": "markdown",
      "metadata": {
        "id": "BKjlDOsRZqsp",
        "colab_type": "text"
      },
      "source": [
        "**Import necessary python libraries**"
      ]
    },
    {
      "cell_type": "code",
      "metadata": {
        "id": "oPokzRFxZwl9",
        "colab_type": "code",
        "colab": {
          "base_uri": "https://localhost:8080/",
          "height": 52
        },
        "outputId": "99a11bcd-0d5b-4516-da20-ba2c8ea955d0"
      },
      "source": [
        "import tensorflow as tf\n",
        "from keras.datasets import mnist  \n",
        "from keras.utils import np_utils  \n",
        "import numpy as np \n",
        "\n",
        "print(\"Libraries are imported successfully\")\n",
        "print(\"Tensorflow version: \",tf.__version__)\n"
      ],
      "execution_count": 38,
      "outputs": [
        {
          "output_type": "stream",
          "text": [
            "Libraries are imported successfully\n",
            "Tensorflow version:  2.2.0\n"
          ],
          "name": "stdout"
        }
      ]
    },
    {
      "cell_type": "markdown",
      "metadata": {
        "id": "b33sJQ-gaAth",
        "colab_type": "text"
      },
      "source": [
        "Download and load MNIT dataset"
      ]
    },
    {
      "cell_type": "code",
      "metadata": {
        "id": "7mSoaiKbaHzZ",
        "colab_type": "code",
        "colab": {}
      },
      "source": [
        "(X_Train, y_Train), (X_Test, y_Test) = mnist.load_data() \n",
        "\n",
        "  \n",
        "# Translation of data  \n",
        "# Reshape to 60000 x (28 x 28 x1)\n",
        "X_Train_keras = X_Train.reshape(X_Train.shape[0], 28, 28, 1).astype('float32')  \n",
        "X_Test_keras = X_Test.reshape(X_Test.shape[0], 28, 28, 1).astype('float32')  "
      ],
      "execution_count": 12,
      "outputs": []
    },
    {
      "cell_type": "markdown",
      "metadata": {
        "id": "BSe4C4MWajjf",
        "colab_type": "text"
      },
      "source": [
        "Features standardization and One-hot encoding\n",
        "\n"
      ]
    },
    {
      "cell_type": "code",
      "metadata": {
        "id": "ZGU9eZLyaqYU",
        "colab_type": "code",
        "colab": {}
      },
      "source": [
        "# Standardize feature data  \n",
        "X_Train_keras_norm = X_Train_keras / 255  \n",
        "X_Test_keras_norm = X_Test_keras /255  \n",
        "      \n",
        "# Label Onehot-encoding  \n",
        "y_TrainOneHot = np_utils.to_categorical(y_Train)  \n",
        "y_TestOneHot = np_utils.to_categorical(y_Test)\n",
        "\n"
      ],
      "execution_count": 30,
      "outputs": []
    },
    {
      "cell_type": "markdown",
      "metadata": {
        "id": "pbGNLsjkb78y",
        "colab_type": "text"
      },
      "source": [
        "Create a convolutional neural network"
      ]
    },
    {
      "cell_type": "code",
      "metadata": {
        "id": "SsMVuI2fcGsV",
        "colab_type": "code",
        "colab": {}
      },
      "source": [
        "from keras.models import Sequential  \n",
        "from keras.layers import Dense,Dropout,Flatten,Conv2D,MaxPooling2D  \n",
        "      \n",
        "model = Sequential()  \n",
        "# Create CN layer 1  \n",
        "model.add(Conv2D(filters=16,  \n",
        "                     kernel_size=(5,5),  \n",
        "                     padding='same',  \n",
        "                     input_shape=(28,28,1),  \n",
        "                     activation='relu'))  \n",
        "# Create Max-Pool 1  \n",
        "model.add(MaxPooling2D(pool_size=(2,2)))  \n",
        "      \n",
        "# Create CN layer 2  \n",
        "model.add(Conv2D(filters=36,  \n",
        "                  kernel_size=(5,5),  \n",
        "                  padding='same',  \n",
        "                  input_shape=(28,28,1),  \n",
        "                  activation='relu'))  \n",
        "      \n",
        "# Create Max-Pool 2  \n",
        "model.add(MaxPooling2D(pool_size=(2,2)))  \n",
        "      \n",
        "# Add Dropout layer  \n",
        "model.add(Dropout(0.25))  \n"
      ],
      "execution_count": 14,
      "outputs": []
    },
    {
      "cell_type": "markdown",
      "metadata": {
        "id": "veG8ZOyCcOZ2",
        "colab_type": "text"
      },
      "source": [
        "Create a fully connected layer"
      ]
    },
    {
      "cell_type": "code",
      "metadata": {
        "id": "_rA5crjocPS5",
        "colab_type": "code",
        "colab": {
          "base_uri": "https://localhost:8080/",
          "height": 486
        },
        "outputId": "33b1cc7a-8bd0-468d-f0f3-ad9fcb2beb4f"
      },
      "source": [
        "model.add(Flatten())  \n",
        "\n",
        "model.add(Dense(128, activation='relu'))  \n",
        "#Prevent overfitting\n",
        "model.add(Dropout(0.5))  \n",
        "\n",
        "#Ouput N-class probabilities\n",
        "model.add(Dense(10, activation='softmax'))\n",
        "\n",
        "\n",
        "model.summary()  \n",
        "print(\"\")  \n"
      ],
      "execution_count": 15,
      "outputs": [
        {
          "output_type": "stream",
          "text": [
            "Model: \"sequential_1\"\n",
            "_________________________________________________________________\n",
            "Layer (type)                 Output Shape              Param #   \n",
            "=================================================================\n",
            "conv2d_1 (Conv2D)            (None, 28, 28, 16)        416       \n",
            "_________________________________________________________________\n",
            "max_pooling2d_1 (MaxPooling2 (None, 14, 14, 16)        0         \n",
            "_________________________________________________________________\n",
            "conv2d_2 (Conv2D)            (None, 14, 14, 36)        14436     \n",
            "_________________________________________________________________\n",
            "max_pooling2d_2 (MaxPooling2 (None, 7, 7, 36)          0         \n",
            "_________________________________________________________________\n",
            "dropout_1 (Dropout)          (None, 7, 7, 36)          0         \n",
            "_________________________________________________________________\n",
            "flatten_1 (Flatten)          (None, 1764)              0         \n",
            "_________________________________________________________________\n",
            "dense_1 (Dense)              (None, 128)               225920    \n",
            "_________________________________________________________________\n",
            "dropout_2 (Dropout)          (None, 128)               0         \n",
            "_________________________________________________________________\n",
            "dense_2 (Dense)              (None, 10)                1290      \n",
            "=================================================================\n",
            "Total params: 242,062\n",
            "Trainable params: 242,062\n",
            "Non-trainable params: 0\n",
            "_________________________________________________________________\n",
            "\n"
          ],
          "name": "stdout"
        }
      ]
    },
    {
      "cell_type": "markdown",
      "metadata": {
        "id": "5ZvIg1odcjbb",
        "colab_type": "text"
      },
      "source": [
        "Starts to traing the CNN"
      ]
    },
    {
      "cell_type": "code",
      "metadata": {
        "id": "MNe1p9JQcmLr",
        "colab_type": "code",
        "colab": {
          "base_uri": "https://localhost:8080/",
          "height": 382
        },
        "outputId": "becd4b5b-260f-41cc-e035-fc1583197d65"
      },
      "source": [
        "model.compile(loss='categorical_crossentropy', optimizer='adam', metrics=['accuracy'])  \n",
        "  \n",
        "\n",
        "train_history = model.fit(x=X_Train_keras_norm,  \n",
        "                          y=y_TrainOneHot, validation_split=0.2,  \n",
        "                          epochs=10, batch_size=300, verbose=2)  "
      ],
      "execution_count": 16,
      "outputs": [
        {
          "output_type": "stream",
          "text": [
            "Train on 48000 samples, validate on 12000 samples\n",
            "Epoch 1/10\n",
            " - 7s - loss: 0.5440 - accuracy: 0.8291 - val_loss: 0.1038 - val_accuracy: 0.9694\n",
            "Epoch 2/10\n",
            " - 1s - loss: 0.1457 - accuracy: 0.9568 - val_loss: 0.0691 - val_accuracy: 0.9793\n",
            "Epoch 3/10\n",
            " - 1s - loss: 0.1075 - accuracy: 0.9686 - val_loss: 0.0518 - val_accuracy: 0.9852\n",
            "Epoch 4/10\n",
            " - 1s - loss: 0.0805 - accuracy: 0.9762 - val_loss: 0.0437 - val_accuracy: 0.9871\n",
            "Epoch 5/10\n",
            " - 1s - loss: 0.0678 - accuracy: 0.9794 - val_loss: 0.0409 - val_accuracy: 0.9883\n",
            "Epoch 6/10\n",
            " - 1s - loss: 0.0589 - accuracy: 0.9824 - val_loss: 0.0385 - val_accuracy: 0.9893\n",
            "Epoch 7/10\n",
            " - 1s - loss: 0.0553 - accuracy: 0.9835 - val_loss: 0.0363 - val_accuracy: 0.9893\n",
            "Epoch 8/10\n",
            " - 1s - loss: 0.0477 - accuracy: 0.9855 - val_loss: 0.0345 - val_accuracy: 0.9908\n",
            "Epoch 9/10\n",
            " - 1s - loss: 0.0444 - accuracy: 0.9869 - val_loss: 0.0354 - val_accuracy: 0.9905\n",
            "Epoch 10/10\n",
            " - 1s - loss: 0.0408 - accuracy: 0.9880 - val_loss: 0.0341 - val_accuracy: 0.9902\n"
          ],
          "name": "stdout"
        }
      ]
    },
    {
      "cell_type": "markdown",
      "metadata": {
        "id": "jVvi7K44dCDP",
        "colab_type": "text"
      },
      "source": [
        "Display Training History"
      ]
    },
    {
      "cell_type": "code",
      "metadata": {
        "id": "orqliHscdF85",
        "colab_type": "code",
        "colab": {}
      },
      "source": [
        "import os  \n",
        "      \n",
        "      \n",
        "import matplotlib.pyplot as plt  \n",
        "def plot_image(image): \n",
        "    #get current figure \n",
        "    fig = plt.gcf()  \n",
        "    fig.set_size_inches(2,2)  \n",
        "    plt.imshow(image, cmap='binary')  \n",
        "    plt.show()  \n",
        "      \n",
        "def plot_images_labels_predict(images, labels, prediction, idx, num=10):  \n",
        "    fig = plt.gcf()  \n",
        "    fig.set_size_inches(12, 14)  \n",
        "    if num > 25: num = 25  \n",
        "    for i in range(0, num):  \n",
        "        ax=plt.subplot(5,5, 1+i)  \n",
        "        ax.imshow(images[idx], cmap='binary')  \n",
        "        title = \"l=\" + str(labels[idx])  \n",
        "        if len(prediction) > 0:  \n",
        "            title = \"l={},p={}\".format(str(labels[idx]), str(prediction[idx]))  \n",
        "        else:  \n",
        "            title = \"l={}\".format(str(labels[idx]))  \n",
        "        ax.set_title(title, fontsize=10)  \n",
        "        ax.set_xticks([]); ax.set_yticks([])  \n",
        "        idx+=1  \n",
        "    plt.show()  \n",
        "      \n",
        "def show_train_history(train_history, train, validation):  \n",
        "    plt.plot(train_history.history[train])  \n",
        "    plt.plot(train_history.history[validation])  \n",
        "    plt.title('Train History')  \n",
        "    plt.ylabel(train)  \n",
        "    plt.xlabel('Epoch')  \n",
        "    plt.legend(['train', 'validation'], loc='upper left')  \n",
        "    plt.show()  \n"
      ],
      "execution_count": 20,
      "outputs": []
    },
    {
      "cell_type": "code",
      "metadata": {
        "id": "kQ6NN45FdekX",
        "colab_type": "code",
        "colab": {
          "base_uri": "https://localhost:8080/",
          "height": 590
        },
        "outputId": "7d1a27dd-b30b-476f-b19e-2173256dc183"
      },
      "source": [
        "!pip3 install utils\n",
        "from utils import *  \n",
        "\n",
        "show_train_history(train_history, 'accuracy', 'val_accuracy')  \n",
        "show_train_history(train_history, 'loss', 'val_loss')  "
      ],
      "execution_count": 27,
      "outputs": [
        {
          "output_type": "stream",
          "text": [
            "Requirement already satisfied: utils in /usr/local/lib/python3.6/dist-packages (1.0.1)\n"
          ],
          "name": "stdout"
        },
        {
          "output_type": "display_data",
          "data": {
            "image/png": "[encoded data removed]",
            "text/plain": [
              "<Figure size 432x288 with 1 Axes>"
            ]
          },
          "metadata": {
            "tags": [],
            "needs_background": "light"
          }
        },
        {
          "output_type": "display_data",
          "data": {
            "image/png": "[encoded data removed]",
            "text/plain": [
              "<Figure size 432x288 with 1 Axes>"
            ]
          },
          "metadata": {
            "tags": [],
            "needs_background": "light"
          }
        }
      ]
    },
    {
      "cell_type": "markdown",
      "metadata": {
        "id": "we5EE3WYejt6",
        "colab_type": "text"
      },
      "source": [
        "Test CNN"
      ]
    },
    {
      "cell_type": "code",
      "metadata": {
        "id": "gB9VWOlzej3C",
        "colab_type": "code",
        "colab": {
          "base_uri": "https://localhost:8080/",
          "height": 69
        },
        "outputId": "124d7c40-d0e5-4642-df63-6b9115b2ed9a"
      },
      "source": [
        "scores = model.evaluate(X_Test_keras_norm, y_TestOneHot)  \n",
        "print()  \n",
        "print(\"[Info] Accuracy of testing data = {:2.1f}%\".format(scores[1]*100.0))  \n"
      ],
      "execution_count": 31,
      "outputs": [
        {
          "output_type": "stream",
          "text": [
            "10000/10000 [==============================] - 1s 64us/step\n",
            "\n",
            "\t[Info] Accuracy of testing data = 99.0%\n"
          ],
          "name": "stdout"
        }
      ]
    },
    {
      "cell_type": "code",
      "metadata": {
        "id": "Wn0xiM_oe62C",
        "colab_type": "code",
        "colab": {
          "base_uri": "https://localhost:8080/",
          "height": 408
        },
        "outputId": "9efbf6b4-fa04-447d-8b2f-d1886acad47e"
      },
      "source": [
        "print(\"[Info] Making prediction of X_Test4D_norm\")  \n",
        "prediction = model.predict_classes(X_Test_keras_norm)  # Making prediction and save result to prediction  \n",
        "print()  \n",
        "print(\"[Info] Show 10 prediction result (From 240):\")  \n",
        "print(\"%s\\n\" % (prediction[240:250]))  \n",
        "\n",
        "plot_images_labels_predict(X_Test, y_Test, prediction, idx=240)  "
      ],
      "execution_count": 35,
      "outputs": [
        {
          "output_type": "stream",
          "text": [
            "[Info] Making prediction of X_Test4D_norm\n",
            "\n",
            "[Info] Show 10 prediction result (From 240):\n",
            "[5 9 8 7 2 3 0 4 4 2]\n",
            "\n"
          ],
          "name": "stdout"
        },
        {
          "output_type": "display_data",
          "data": {
            "image/png": "[encoded data removed]",
            "text/plain": [
              "<Figure size 864x1008 with 10 Axes>"
            ]
          },
          "metadata": {
            "tags": []
          }
        }
      ]
    },
    {
      "cell_type": "code",
      "metadata": {
        "id": "6Yf4310FfMOS",
        "colab_type": "code",
        "colab": {
          "base_uri": "https://localhost:8080/",
          "height": 260
        },
        "outputId": "ea41fad2-7e17-4dec-be6a-4e6d6d799910"
      },
      "source": [
        "import pandas as pd  \n",
        "print(\"\\t[Info] Display Confusion Matrix:\")  \n",
        "print(\"%s\\n\" % pd.crosstab(y_Test, prediction, rownames=['label'], colnames=['predict']))  \n"
      ],
      "execution_count": 36,
      "outputs": [
        {
          "output_type": "stream",
          "text": [
            "\t[Info] Display Confusion Matrix:\n",
            "predict    0     1     2     3    4    5    6     7    8    9\n",
            "label                                                        \n",
            "0        977     0     0     0    0    0    1     1    1    0\n",
            "1          0  1129     1     2    0    0    0     1    2    0\n",
            "2          1     1  1027     0    1    0    0     2    0    0\n",
            "3          1     0     1  1004    0    1    0     2    1    0\n",
            "4          0     1     0     0  976    0    0     1    1    3\n",
            "5          2     0     0     7    0  881    1     0    0    1\n",
            "6          7     2     0     0    2    1  946     0    0    0\n",
            "7          0     1     7     2    0    0    0  1016    1    1\n",
            "8          3     0     1     1    0    1    1     2  961    4\n",
            "9          3     3     0     0    6    2    0     5    3  987\n",
            "\n"
          ],
          "name": "stdout"
        }
      ]
    }
  ]
}