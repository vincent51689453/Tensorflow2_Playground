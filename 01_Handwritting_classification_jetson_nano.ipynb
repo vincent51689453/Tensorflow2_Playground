{
 "cells": [
  {
   "cell_type": "markdown",
   "metadata": {
    "colab_type": "text",
    "id": "BKjlDOsRZqsp"
   },
   "source": [
    "**Import necessary python libraries**"
   ]
  },
  {
   "cell_type": "code",
   "execution_count": 4,
   "metadata": {
    "colab": {
     "base_uri": "https://localhost:8080/",
     "height": 52
    },
    "colab_type": "code",
    "id": "oPokzRFxZwl9",
    "outputId": "48710a10-2443-412b-af25-a13a162cb9c9"
   },
   "outputs": [
    {
     "name": "stdout",
     "output_type": "stream",
     "text": [
      "Libraries are imported successfully\n",
      "Tensorflow version:  1.13.1\n"
     ]
    }
   ],
   "source": [
    "import tensorflow as tf\n",
    "from tensorflow import keras\n",
    "from tensorflow.keras.datasets import mnist\n",
    "from tensorflow.python.keras.utils import np_utils  \n",
    "import numpy as np \n",
    "\n",
    "print(\"Libraries are imported successfully\")\n",
    "print(\"Tensorflow version: \",tf.__version__)\n"
   ]
  },
  {
   "cell_type": "markdown",
   "metadata": {
    "colab_type": "text",
    "id": "b33sJQ-gaAth"
   },
   "source": [
    "Download and load MNIT dataset"
   ]
  },
  {
   "cell_type": "code",
   "execution_count": 5,
   "metadata": {
    "colab": {},
    "colab_type": "code",
    "id": "7mSoaiKbaHzZ"
   },
   "outputs": [
    {
     "name": "stdout",
     "output_type": "stream",
     "text": [
      "Downloading data from https://storage.googleapis.com/tensorflow/tf-keras-datasets/mnist.npz\n",
      "11493376/11490434 [==============================] - 1s 0us/step\n"
     ]
    }
   ],
   "source": [
    "(X_Train, y_Train), (X_Test, y_Test) = mnist.load_data() \n",
    "\n",
    "  \n",
    "# Translation of data  \n",
    "# Reshape to 60000 x (28 x 28 x1)\n",
    "X_Train_keras = X_Train.reshape(X_Train.shape[0], 28, 28, 1).astype('float32')  \n",
    "X_Test_keras = X_Test.reshape(X_Test.shape[0], 28, 28, 1).astype('float32')  "
   ]
  },
  {
   "cell_type": "markdown",
   "metadata": {
    "colab_type": "text",
    "id": "BSe4C4MWajjf"
   },
   "source": [
    "Features standardization and One-hot encoding\n",
    "\n"
   ]
  },
  {
   "cell_type": "code",
   "execution_count": 6,
   "metadata": {
    "colab": {},
    "colab_type": "code",
    "id": "ZGU9eZLyaqYU"
   },
   "outputs": [],
   "source": [
    "# Standardize feature data  \n",
    "X_Train_keras_norm = X_Train_keras / 255  \n",
    "X_Test_keras_norm = X_Test_keras /255  \n",
    "      \n",
    "# Label Onehot-encoding  \n",
    "y_TrainOneHot = np_utils.to_categorical(y_Train)  \n",
    "y_TestOneHot = np_utils.to_categorical(y_Test)\n",
    "\n"
   ]
  },
  {
   "cell_type": "markdown",
   "metadata": {
    "colab_type": "text",
    "id": "pbGNLsjkb78y"
   },
   "source": [
    "Create a convolutional neural network\n"
   ]
  },
  {
   "cell_type": "code",
   "execution_count": 8,
   "metadata": {
    "colab": {},
    "colab_type": "code",
    "id": "SsMVuI2fcGsV"
   },
   "outputs": [
    {
     "name": "stdout",
     "output_type": "stream",
     "text": [
      "WARNING:tensorflow:From /usr/local/lib/python3.6/dist-packages/tensorflow/python/ops/resource_variable_ops.py:435: colocate_with (from tensorflow.python.framework.ops) is deprecated and will be removed in a future version.\n",
      "Instructions for updating:\n",
      "Colocations handled automatically by placer.\n",
      "WARNING:tensorflow:From /usr/local/lib/python3.6/dist-packages/tensorflow/python/keras/layers/core.py:143: calling dropout (from tensorflow.python.ops.nn_ops) with keep_prob is deprecated and will be removed in a future version.\n",
      "Instructions for updating:\n",
      "Please use `rate` instead of `keep_prob`. Rate should be set to `rate = 1 - keep_prob`.\n"
     ]
    }
   ],
   "source": [
    "from tensorflow.keras.models import Sequential  \n",
    "from tensorflow.keras.layers import Dense,Dropout,Flatten,Conv2D,MaxPooling2D  \n",
    "      \n",
    "model = Sequential()  \n",
    "# Create CN layer 1  \n",
    "model.add(Conv2D(filters=16,  \n",
    "                     kernel_size=(5,5),  \n",
    "                     padding='same',  \n",
    "                     input_shape=(28,28,1),  \n",
    "                     activation='relu'))  \n",
    "# Create Max-Pool 1  \n",
    "model.add(MaxPooling2D(pool_size=(2,2)))  \n",
    "      \n",
    "# Create CN layer 2  \n",
    "model.add(Conv2D(filters=36,  \n",
    "                  kernel_size=(5,5),  \n",
    "                  padding='same',  \n",
    "                  input_shape=(28,28,1),  \n",
    "                  activation='relu'))  \n",
    "      \n",
    "# Create Max-Pool 2  \n",
    "model.add(MaxPooling2D(pool_size=(2,2)))  \n",
    "      \n",
    "# Add Dropout layer  \n",
    "model.add(Dropout(0.25))  \n"
   ]
  },
  {
   "cell_type": "markdown",
   "metadata": {
    "colab_type": "text",
    "id": "veG8ZOyCcOZ2"
   },
   "source": [
    "Create two fully connected layer"
   ]
  },
  {
   "cell_type": "code",
   "execution_count": 9,
   "metadata": {
    "colab": {
     "base_uri": "https://localhost:8080/",
     "height": 486
    },
    "colab_type": "code",
    "id": "_rA5crjocPS5",
    "outputId": "e0bd45bb-573c-4156-94b3-e356eed023ff"
   },
   "outputs": [
    {
     "name": "stdout",
     "output_type": "stream",
     "text": [
      "_________________________________________________________________\n",
      "Layer (type)                 Output Shape              Param #   \n",
      "=================================================================\n",
      "conv2d (Conv2D)              (None, 28, 28, 16)        416       \n",
      "_________________________________________________________________\n",
      "max_pooling2d (MaxPooling2D) (None, 14, 14, 16)        0         \n",
      "_________________________________________________________________\n",
      "conv2d_1 (Conv2D)            (None, 14, 14, 36)        14436     \n",
      "_________________________________________________________________\n",
      "max_pooling2d_1 (MaxPooling2 (None, 7, 7, 36)          0         \n",
      "_________________________________________________________________\n",
      "dropout (Dropout)            (None, 7, 7, 36)          0         \n",
      "_________________________________________________________________\n",
      "flatten (Flatten)            (None, 1764)              0         \n",
      "_________________________________________________________________\n",
      "dense (Dense)                (None, 128)               225920    \n",
      "_________________________________________________________________\n",
      "dropout_1 (Dropout)          (None, 128)               0         \n",
      "_________________________________________________________________\n",
      "dense_1 (Dense)              (None, 10)                1290      \n",
      "=================================================================\n",
      "Total params: 242,062\n",
      "Trainable params: 242,062\n",
      "Non-trainable params: 0\n",
      "_________________________________________________________________\n",
      "\n"
     ]
    }
   ],
   "source": [
    "model.add(Flatten())  \n",
    "\n",
    "model.add(Dense(128, activation='relu'))  \n",
    "#Prevent overfitting\n",
    "model.add(Dropout(0.5))  \n",
    "\n",
    "#Ouput N-class probabilities\n",
    "model.add(Dense(10, activation='softmax'))\n",
    "\n",
    "\n",
    "model.summary()  \n",
    "print(\"\")  \n"
   ]
  },
  {
   "cell_type": "markdown",
   "metadata": {
    "colab_type": "text",
    "id": "5ZvIg1odcjbb"
   },
   "source": [
    "Start to train the CNN"
   ]
  },
  {
   "cell_type": "code",
   "execution_count": 10,
   "metadata": {
    "colab": {
     "base_uri": "https://localhost:8080/",
     "height": 382
    },
    "colab_type": "code",
    "id": "MNe1p9JQcmLr",
    "outputId": "f35554dc-ca96-4f2b-ab5a-8407cd790b8e"
   },
   "outputs": [
    {
     "name": "stdout",
     "output_type": "stream",
     "text": [
      "Train on 48000 samples, validate on 12000 samples\n",
      "WARNING:tensorflow:From /usr/local/lib/python3.6/dist-packages/tensorflow/python/ops/math_ops.py:3066: to_int32 (from tensorflow.python.ops.math_ops) is deprecated and will be removed in a future version.\n",
      "Instructions for updating:\n",
      "Use tf.cast instead.\n",
      "Epoch 1/10\n",
      " - 51s - loss: 0.4984 - acc: 0.8429 - val_loss: 0.0979 - val_acc: 0.9717\n",
      "Epoch 2/10\n",
      " - 26s - loss: 0.1428 - acc: 0.9575 - val_loss: 0.0663 - val_acc: 0.9812\n",
      "Epoch 3/10\n",
      " - 25s - loss: 0.1009 - acc: 0.9692 - val_loss: 0.0534 - val_acc: 0.9833\n",
      "Epoch 4/10\n",
      " - 25s - loss: 0.0826 - acc: 0.9753 - val_loss: 0.0474 - val_acc: 0.9860\n",
      "Epoch 5/10\n",
      " - 25s - loss: 0.0702 - acc: 0.9793 - val_loss: 0.0416 - val_acc: 0.9881\n",
      "Epoch 6/10\n",
      " - 25s - loss: 0.0636 - acc: 0.9809 - val_loss: 0.0381 - val_acc: 0.9885\n",
      "Epoch 7/10\n",
      " - 26s - loss: 0.0558 - acc: 0.9833 - val_loss: 0.0373 - val_acc: 0.9892\n",
      "Epoch 8/10\n",
      " - 26s - loss: 0.0499 - acc: 0.9851 - val_loss: 0.0335 - val_acc: 0.9902\n",
      "Epoch 9/10\n",
      " - 25s - loss: 0.0424 - acc: 0.9865 - val_loss: 0.0334 - val_acc: 0.9913\n",
      "Epoch 10/10\n",
      " - 26s - loss: 0.0411 - acc: 0.9874 - val_loss: 0.0326 - val_acc: 0.9912\n"
     ]
    }
   ],
   "source": [
    "model.compile(loss='categorical_crossentropy', optimizer='adam', metrics=['accuracy'])  \n",
    "  \n",
    "\n",
    "train_history = model.fit(x=X_Train_keras_norm,  \n",
    "                          y=y_TrainOneHot, validation_split=0.2,  \n",
    "                          epochs=10, batch_size=300, verbose=2)  "
   ]
  },
  {
   "cell_type": "markdown",
   "metadata": {
    "colab_type": "text",
    "id": "jVvi7K44dCDP"
   },
   "source": [
    "Display Training History"
   ]
  },
  {
   "cell_type": "code",
   "execution_count": 11,
   "metadata": {
    "colab": {},
    "colab_type": "code",
    "id": "orqliHscdF85"
   },
   "outputs": [],
   "source": [
    "import os  \n",
    "      \n",
    "      \n",
    "import matplotlib.pyplot as plt  \n",
    "def plot_image(image): \n",
    "    #get current figure \n",
    "    fig = plt.gcf()  \n",
    "    fig.set_size_inches(2,2)  \n",
    "    plt.imshow(image, cmap='binary')  \n",
    "    plt.show()  \n",
    "      \n",
    "def plot_images_labels_predict(images, labels, prediction, idx, num=10):  \n",
    "    fig = plt.gcf()  \n",
    "    fig.set_size_inches(12, 14)  \n",
    "    if num > 25: num = 25  \n",
    "    for i in range(0, num):  \n",
    "        ax=plt.subplot(5,5, 1+i)  \n",
    "        ax.imshow(images[idx], cmap='binary')  \n",
    "        title = \"l=\" + str(labels[idx])  \n",
    "        if len(prediction) > 0:  \n",
    "            title = \"l={},p={}\".format(str(labels[idx]), str(prediction[idx]))  \n",
    "        else:  \n",
    "            title = \"l={}\".format(str(labels[idx]))  \n",
    "        ax.set_title(title, fontsize=10)  \n",
    "        ax.set_xticks([]); ax.set_yticks([])  \n",
    "        idx+=1  \n",
    "    plt.show()  \n",
    "      \n",
    "def show_train_history(train_history, train, validation):  \n",
    "    plt.plot(train_history.history[train])  \n",
    "    plt.plot(train_history.history[validation])  \n",
    "    plt.title('Train History')  \n",
    "    plt.ylabel(train)  \n",
    "    plt.xlabel('Epoch')  \n",
    "    plt.legend(['train', 'validation'], loc='upper left')  \n",
    "    plt.show()  \n"
   ]
  },
  {
   "cell_type": "code",
   "execution_count": 14,
   "metadata": {
    "colab": {
     "base_uri": "https://localhost:8080/",
     "height": 590
    },
    "colab_type": "code",
    "id": "kQ6NN45FdekX",
    "outputId": "5f176171-0f84-4b60-9cf4-91e53b2530a9"
   },
   "outputs": [
    {
     "name": "stdout",
     "output_type": "stream",
     "text": [
      "Collecting utils\n",
      "  Using cached https://files.pythonhosted.org/packages/55/e6/c2d2b2703e7debc8b501caae0e6f7ead148fd0faa3c8131292a599930029/utils-1.0.1-py2.py3-none-any.whl\n",
      "Installing collected packages: utils\n",
      "Successfully installed utils-1.0.1\n"
     ]
    },
    {
     "data": {
      "image/png": "[encoded data removed]",
      "text/plain": [
       "<matplotlib.figure.Figure at 0x7f20052470>"
      ]
     },
     "metadata": {
      "needs_background": "light"
     },
     "output_type": "display_data"
    }
   ],
   "source": [
    "!pip3 install utils\n",
    "from utils import *  \n",
    "\n",
    "show_train_history(train_history, 'loss', 'val_loss')  "
   ]
  },
  {
   "cell_type": "markdown",
   "metadata": {
    "colab_type": "text",
    "id": "we5EE3WYejt6"
   },
   "source": [
    "Test CNN"
   ]
  },
  {
   "cell_type": "code",
   "execution_count": 15,
   "metadata": {
    "colab": {
     "base_uri": "https://localhost:8080/",
     "height": 69
    },
    "colab_type": "code",
    "id": "gB9VWOlzej3C",
    "outputId": "4a6039f5-e70f-4d2e-b1bf-cd24f34737b4"
   },
   "outputs": [
    {
     "name": "stdout",
     "output_type": "stream",
     "text": [
      "10000/10000 [==============================] - 8s 772us/sample - loss: 0.0237 - acc: 0.9919\n",
      "\n",
      "[Info] Accuracy of testing data = 99.2%\n"
     ]
    }
   ],
   "source": [
    "scores = model.evaluate(X_Test_keras_norm, y_TestOneHot)  \n",
    "print()  \n",
    "print(\"[Info] Accuracy of testing data = {:2.1f}%\".format(scores[1]*100.0))  \n"
   ]
  },
  {
   "cell_type": "code",
   "execution_count": 16,
   "metadata": {
    "colab": {
     "base_uri": "https://localhost:8080/",
     "height": 408
    },
    "colab_type": "code",
    "id": "Wn0xiM_oe62C",
    "outputId": "52b63423-e8e1-4f8c-c537-8d50c47ed46c"
   },
   "outputs": [
    {
     "name": "stdout",
     "output_type": "stream",
     "text": [
      "[Info] Making prediction of X_Test4D_norm\n",
      "\n",
      "[Info] Show 10 prediction result (From 240):\n",
      "[5 9 8 7 2 3 0 4 4 2]\n",
      "\n"
     ]
    },
    {
     "data": {
      "image/png": "[encoded data removed]",
      "text/plain": [
       "<matplotlib.figure.Figure at 0x7eb3c39a58>"
      ]
     },
     "metadata": {},
     "output_type": "display_data"
    }
   ],
   "source": [
    "print(\"[Info] Making prediction of X_Test4D_norm\")  \n",
    "prediction = model.predict_classes(X_Test_keras_norm)  # Making prediction and save result to prediction  \n",
    "print()  \n",
    "print(\"[Info] Show 10 prediction result (From 240):\")  \n",
    "print(\"%s\\n\" % (prediction[240:250]))  \n",
    "\n",
    "plot_images_labels_predict(X_Test, y_Test, prediction, idx=240)  "
   ]
  },
  {
   "cell_type": "code",
   "execution_count": null,
   "metadata": {},
   "outputs": [],
   "source": []
  }
 ],
 "metadata": {
  "accelerator": "GPU",
  "colab": {
   "collapsed_sections": [],
   "name": "01_Keras_Handwritting_classification.ipynb",
   "provenance": []
  },
  "kernelspec": {
   "display_name": "Python 3",
   "language": "python",
   "name": "python3"
  },
  "language_info": {
   "codemirror_mode": {
    "name": "ipython",
    "version": 3
   },
   "file_extension": ".py",
   "mimetype": "text/x-python",
   "name": "python",
   "nbconvert_exporter": "python",
   "pygments_lexer": "ipython3",
   "version": "3.6.9"
  }
 },
 "nbformat": 4,
 "nbformat_minor": 1
}
